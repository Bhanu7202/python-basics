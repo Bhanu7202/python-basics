{
 "cells": [
  {
   "cell_type": "markdown",
   "id": "99d94597-e48d-4f09-994e-908e10eda90a",
   "metadata": {},
   "source": [
    "# Program to check if a number is prime or not"
   ]
  },
  {
   "cell_type": "code",
   "execution_count": 6,
   "id": "884344d1-4248-4871-ad64-e4c86cdfa5e6",
   "metadata": {},
   "outputs": [
    {
     "name": "stdin",
     "output_type": "stream",
     "text": [
      "Enter a number:  4\n"
     ]
    },
    {
     "name": "stdout",
     "output_type": "stream",
     "text": [
      "4 is not a prime number\n"
     ]
    }
   ],
   "source": [
    "\n",
    "\n",
    "# To take input from the user\n",
    "n = int(input(\"Enter a number: \"))\n",
    "\n",
    "# define a flag variable\n",
    "flag = False\n",
    "\n",
    "if n == 0 or n == 1:\n",
    "    print(n, \"is not a prime number\")\n",
    "    \n",
    "elif n > 1:\n",
    "    # check for factors\n",
    "    for i in range(2, n):\n",
    "        if (n % i) == 0:\n",
    "            # if factor is found, set flag to True\n",
    "            flag = True\n",
    "            # break out of loop\n",
    "            break\n",
    "    # check if flag is True\n",
    "    if flag:\n",
    "        print(n, \"is not a prime number\")\n",
    "    else:\n",
    "        print(n, \"is a prime number\")"
   ]
  },
  {
   "cell_type": "markdown",
   "id": "8eb265db-37f4-4a95-8d02-c7961f6e6061",
   "metadata": {},
   "source": [
    "# Product of Random Numbers"
   ]
  },
  {
   "cell_type": "code",
   "execution_count": 8,
   "id": "1aee9e02-0d47-467d-8fec-e8f734b367a7",
   "metadata": {},
   "outputs": [
    {
     "name": "stdout",
     "output_type": "stream",
     "text": [
      "The first number is: 452\n",
      "The second number is: 226\n"
     ]
    },
    {
     "name": "stdin",
     "output_type": "stream",
     "text": [
      "Enter the product of the two numbers:  6\n"
     ]
    },
    {
     "name": "stdout",
     "output_type": "stream",
     "text": [
      "You should practice maths\n"
     ]
    }
   ],
   "source": [
    "import numpy as np \n",
    "# Generating random integers between 0 and 1000 (inclusive)\n",
    "number_1 = int(np.random.uniform(0, 1000))  \n",
    "print('The first number is:', number_1)  \n",
    "\n",
    "number_2 = int(np.random.uniform(0, 1000))  \n",
    "print('The second number is:', number_2) \n",
    "\n",
    "# collect the answer from user\n",
    "k = int(input('Enter the product of the two numbers: '))\n",
    "\n",
    "# Check if the user's input matches the actual product and output the message\n",
    "if k == number_1 * number_2:\n",
    "    print('Your answer is correct')\n",
    "else:\n",
    "    print('You should practice maths')\n"
   ]
  },
  {
   "cell_type": "markdown",
   "id": "ac3e2215-9711-4b37-93df-2f98182409c7",
   "metadata": {},
   "source": [
    "# Squares of Even/Odd Numbers"
   ]
  },
  {
   "cell_type": "code",
   "execution_count": 65,
   "id": "3de18607-7065-429f-9622-a50ff142da96",
   "metadata": {},
   "outputs": [
    {
     "name": "stdout",
     "output_type": "stream",
     "text": [
      "The square of 100 is 10000\n",
      "The square of 102 is 10404\n",
      "The square of 104 is 10816\n",
      "The square of 106 is 11236\n",
      "The square of 108 is 11664\n",
      "The square of 110 is 12100\n",
      "The square of 112 is 12544\n",
      "The square of 114 is 12996\n",
      "The square of 116 is 13456\n",
      "The square of 118 is 13924\n",
      "The square of 120 is 14400\n",
      "The square of 122 is 14884\n",
      "The square of 124 is 15376\n",
      "The square of 126 is 15876\n",
      "The square of 128 is 16384\n",
      "The square of 130 is 16900\n",
      "The square of 132 is 17424\n",
      "The square of 134 is 17956\n",
      "The square of 136 is 18496\n",
      "The square of 138 is 19044\n",
      "The square of 140 is 19600\n",
      "The square of 142 is 20164\n",
      "The square of 144 is 20736\n",
      "The square of 146 is 21316\n",
      "The square of 148 is 21904\n",
      "The square of 150 is 22500\n",
      "The square of 152 is 23104\n",
      "The square of 154 is 23716\n",
      "The square of 156 is 24336\n",
      "The square of 158 is 24964\n",
      "The square of 160 is 25600\n",
      "The square of 162 is 26244\n",
      "The square of 164 is 26896\n",
      "The square of 166 is 27556\n",
      "The square of 168 is 28224\n",
      "The square of 170 is 28900\n",
      "The square of 172 is 29584\n",
      "The square of 174 is 30276\n",
      "The square of 176 is 30976\n",
      "The square of 178 is 31684\n",
      "The square of 180 is 32400\n",
      "The square of 182 is 33124\n",
      "The square of 184 is 33856\n",
      "The square of 186 is 34596\n",
      "The square of 188 is 35344\n",
      "The square of 190 is 36100\n",
      "The square of 192 is 36864\n",
      "The square of 194 is 37636\n",
      "The square of 196 is 38416\n",
      "The square of 198 is 39204\n",
      "The square of 200 is 40000\n"
     ]
    }
   ],
   "source": [
    "# Squares of Even Numbers\n",
    "# Loop through the range of 100 to 200\n",
    "for number in range(100, 201):\n",
    "    # Check if the number is even\n",
    "    if number % 2 == 0:  \n",
    "        # Calculate the square of the number\n",
    "        square = number ** 2  \n",
    "        print(\"The square of\",number, \"is\", square)\n",
    "\n",
    "    "
   ]
  },
  {
   "cell_type": "code",
   "execution_count": 67,
   "id": "29faa692-b269-418c-864a-3a16566a95ee",
   "metadata": {},
   "outputs": [
    {
     "name": "stdout",
     "output_type": "stream",
     "text": [
      "The square of 101 is 10201\n",
      "The square of 103 is 10609\n",
      "The square of 105 is 11025\n",
      "The square of 107 is 11449\n",
      "The square of 109 is 11881\n",
      "The square of 111 is 12321\n",
      "The square of 113 is 12769\n",
      "The square of 115 is 13225\n",
      "The square of 117 is 13689\n",
      "The square of 119 is 14161\n",
      "The square of 121 is 14641\n",
      "The square of 123 is 15129\n",
      "The square of 125 is 15625\n",
      "The square of 127 is 16129\n",
      "The square of 129 is 16641\n",
      "The square of 131 is 17161\n",
      "The square of 133 is 17689\n",
      "The square of 135 is 18225\n",
      "The square of 137 is 18769\n",
      "The square of 139 is 19321\n",
      "The square of 141 is 19881\n",
      "The square of 143 is 20449\n",
      "The square of 145 is 21025\n",
      "The square of 147 is 21609\n",
      "The square of 149 is 22201\n",
      "The square of 151 is 22801\n",
      "The square of 153 is 23409\n",
      "The square of 155 is 24025\n",
      "The square of 157 is 24649\n",
      "The square of 159 is 25281\n",
      "The square of 161 is 25921\n",
      "The square of 163 is 26569\n",
      "The square of 165 is 27225\n",
      "The square of 167 is 27889\n",
      "The square of 169 is 28561\n",
      "The square of 171 is 29241\n",
      "The square of 173 is 29929\n",
      "The square of 175 is 30625\n",
      "The square of 177 is 31329\n",
      "The square of 179 is 32041\n",
      "The square of 181 is 32761\n",
      "The square of 183 is 33489\n",
      "The square of 185 is 34225\n",
      "The square of 187 is 34969\n",
      "The square of 189 is 35721\n",
      "The square of 191 is 36481\n",
      "The square of 193 is 37249\n",
      "The square of 195 is 38025\n",
      "The square of 197 is 38809\n",
      "The square of 199 is 39601\n"
     ]
    }
   ],
   "source": [
    "# Squares of Odd Numbers\n",
    "# Loop through the range of 100 to 200\n",
    "for number in range(100, 201):\n",
    "    # Check if the number is odd\n",
    "    if number % 2 != 0:  \n",
    "        # Calculate the square of the number\n",
    "        square = number ** 2  \n",
    "        print(\"The square of\",number, \"is\", square)"
   ]
  },
  {
   "cell_type": "markdown",
   "id": "64dca50d-5113-488c-bba5-417a90d73d98",
   "metadata": {},
   "source": [
    "# Word counter"
   ]
  },
  {
   "cell_type": "code",
   "execution_count": 75,
   "id": "e5ea7513-1dcb-4a0a-96b6-cf447c4e7dcf",
   "metadata": {},
   "outputs": [
    {
     "name": "stdin",
     "output_type": "stream",
     "text": [
      "please enter the text: This is a sample text. This text will be used to demonstrate the word counter.\n"
     ]
    },
    {
     "name": "stdout",
     "output_type": "stream",
     "text": [
      "'This': 2\n",
      "'is': 1\n",
      "'a': 1\n",
      "'sample': 1\n",
      "'text.': 1\n",
      "'text': 1\n",
      "'will': 1\n",
      "'be': 1\n",
      "'used': 1\n",
      "'to': 1\n",
      "'demonstrate': 1\n",
      "'the': 1\n",
      "'word': 1\n",
      "'counter.': 1\n"
     ]
    }
   ],
   "source": [
    "# Input text\n",
    "text = input('please enter the text:')\n",
    "\"\"\"sample text:\n",
    "   This is a sample text. This text will be used to demonstrate the word counter.\"\"\"\n",
    "\n",
    "# Split the text into words using split() method, which separates by whitespace by default\n",
    "words = text.split()\n",
    "\n",
    "# Create a dictionary to store the word counts\n",
    "word_counts = {}\n",
    "\n",
    "# Iterate over each word\n",
    "for word in words:\n",
    "    # Increment the count for the word in the dictionary\n",
    "    word_counts[word] = word_counts.get(word, 0) + 1\n",
    "\n",
    "# Print the word counts\n",
    "for word, count in word_counts.items():\n",
    "    print(f\"'{word}': {count}\")\n"
   ]
  },
  {
   "cell_type": "markdown",
   "id": "35248d41-cb3b-4e8b-bea3-bea38b20a6e7",
   "metadata": {},
   "source": [
    "# Check for Palindrome"
   ]
  },
  {
   "cell_type": "code",
   "execution_count": 16,
   "id": "697ddc95-57c7-458b-82e3-17243fecb907",
   "metadata": {},
   "outputs": [
    {
     "name": "stdin",
     "output_type": "stream",
     "text": [
      "please give the input to check palindrome: racecar\n"
     ]
    },
    {
     "name": "stdout",
     "output_type": "stream",
     "text": [
      "True\n"
     ]
    }
   ],
   "source": [
    "def is_palindrome(s):\n",
    "    # Remove spaces and convert to lowercase\n",
    "    cleaned = ''.join(char.lower() for char in s if char.isalnum())\n",
    "    # Check if cleaned string is equal to its reverse\n",
    "    return cleaned == cleaned[::-1]\n",
    "\n",
    "# collect input from user and print result\n",
    "str = input(\"please give the input to check palindrome:\")         \n",
    "print(is_palindrome(str))\n",
    "'''sample text: racecar'''\n"
   ]
  },
  {
   "cell_type": "code",
   "execution_count": null,
   "id": "64afa22a-d66f-4779-a4fb-c33e9417d0be",
   "metadata": {},
   "outputs": [],
   "source": []
  }
 ],
 "metadata": {
  "kernelspec": {
   "display_name": "Python 3 (ipykernel)",
   "language": "python",
   "name": "python3"
  },
  "language_info": {
   "codemirror_mode": {
    "name": "ipython",
    "version": 3
   },
   "file_extension": ".py",
   "mimetype": "text/x-python",
   "name": "python",
   "nbconvert_exporter": "python",
   "pygments_lexer": "ipython3",
   "version": "3.12.4"
  }
 },
 "nbformat": 4,
 "nbformat_minor": 5
}
